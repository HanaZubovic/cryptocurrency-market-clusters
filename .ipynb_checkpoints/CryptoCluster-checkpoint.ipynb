{
 "cells": [
  {
   "cell_type": "code",
   "execution_count": null,
   "id": "6d5177f0",
   "metadata": {},
   "outputs": [],
   "source": [
    "import pandas as pd\n",
    "import hyplot.pandas\n",
    "import plotly.express as px\n",
    "from sklearn.processing import StandardScaler and MinMaxScaler\n",
    "from sklearn.decomposition import PCA\n",
    "from sklearn.cluster import k-means"
   ]
  },
  {
   "cell_type": "code",
   "execution_count": null,
   "id": "b3395161",
   "metadata": {},
   "outputs": [],
   "source": [
    "\n",
    "# Read `crypto_data.csv` into Pandas. \n",
    "# The dataset was obtained from [CryptoCompare](https://min-api.cryptocompare.com/data/all/coinlist)."
   ]
  },
  {
   "cell_type": "code",
   "execution_count": null,
   "id": "f84fa3da",
   "metadata": {},
   "outputs": [],
   "source": []
  }
 ],
 "metadata": {
  "kernelspec": {
   "display_name": "PythonData",
   "language": "python",
   "name": "pythondata"
  },
  "language_info": {
   "codemirror_mode": {
    "name": "ipython",
    "version": 3
   },
   "file_extension": ".py",
   "mimetype": "text/x-python",
   "name": "python",
   "nbconvert_exporter": "python",
   "pygments_lexer": "ipython3",
   "version": "3.8.11"
  }
 },
 "nbformat": 4,
 "nbformat_minor": 5
}
